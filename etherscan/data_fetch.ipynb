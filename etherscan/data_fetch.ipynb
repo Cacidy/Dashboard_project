{
 "cells": [
  {
   "cell_type": "code",
   "execution_count": 1,
   "metadata": {},
   "outputs": [],
   "source": [
    "import pytz\n",
    "import os\n",
    "import logging\n",
    "import pandas as pd\n",
    "from datetime import datetime\n",
    "from typing import Tuple, List, Optional\n",
    "from etherscan_functions import get_erc20_transfers, get_block_numbers_by_date\n",
    "\n",
    "\n",
    "logging.basicConfig(level=logging.INFO, format=\"%(asctime)s - %(levelname)s - %(message)s\")\n",
    "logger = logging.getLogger()\n",
    "\n",
    "START_DATE = \"2024-12-14 08:00\"\n",
    "END_DATE = \"2024-12-16 08:00\"\n",
    "OUTPUT_FILE = 'C:/Users/YuweiCao/Documents/GitHub/Project/Project/etherscan/result'\n",
    "api_key = \"VQAIR728IM4Z8RZKPYBR4ESM5I3WBZK2C1\" # my free API key, you can get one at https://etherscan.io/myapikey\n",
    "base_url = \"https://api.etherscan.io/v2/api\" # We're using the v2 API 2024/12/12\n",
    "ADDRESS = \"0x5be9a4959308A0D0c7bC0870E319314d8D957dBB\" # Address of the contract we want to get the source code of\n",
    "chain_id = 1  # Ethereum Mainnet"
   ]
  },
  {
   "cell_type": "code",
   "execution_count": 2,
   "metadata": {},
   "outputs": [],
   "source": [
    "def fetch_erc20_transfers(address: str, start_block: int, end_block: int, offset: int = 100) -> pd.DataFrame:\n",
    "    \"\"\"\n",
    "    Fetch ERC20 token transfer data and process it into a DataFrame.\n",
    "    :param address: Contract address you decide to fetch the data from.\n",
    "    :param start_block: Start block number.\n",
    "    :param end_block: End block number.\n",
    "    :param offset: Number of transactions to fetch per API call.\n",
    "    \"\"\"\n",
    "    all_transfers = []\n",
    "    page = 1\n",
    "\n",
    "    logger.info(f\"Fetching ERC20 transfers from block {start_block} to {end_block}...\")\n",
    "\n",
    "    while True:\n",
    "        try:\n",
    "            transfers = get_erc20_transfers(\n",
    "                address=address, startblock=start_block, endblock=end_block, page=page, offset=offset\n",
    "            )\n",
    "\n",
    "            if transfers is None:\n",
    "                logger.warning(\"API returned None. Exiting...\")\n",
    "                break\n",
    "            if isinstance(transfers, list) and len(transfers) == 0:\n",
    "                logger.info(\"Empty list received. Exiting...\")\n",
    "                break\n",
    "            if isinstance(transfers, pd.DataFrame) and transfers.empty:\n",
    "                logger.info(\"Empty DataFrame received. Exiting...\")\n",
    "                break\n",
    "\n",
    "            if isinstance(transfers, list):\n",
    "                transfers_df = pd.DataFrame(transfers)\n",
    "            elif isinstance(transfers, pd.DataFrame):\n",
    "                transfers_df = transfers\n",
    "            else:\n",
    "                logger.warning(f\"Unexpected data format: {type(transfers)}. Exiting...\")\n",
    "                break\n",
    "\n",
    "            if transfers_df.empty:\n",
    "                logger.info(\"Empty DataFrame received. Exiting...\")\n",
    "                break\n",
    "\n",
    "            all_transfers.extend(transfers_df.to_dict(orient='records'))\n",
    "            logger.info(f\"Page {page}: Retrieved {len(transfers_df)} transactions.\")\n",
    "            page += 1\n",
    "\n",
    "        except Exception as e:\n",
    "            logger.warning(f\"API request failed on page {page}: {e}\")\n",
    "            break\n",
    "\n",
    "    final_df = pd.DataFrame(all_transfers)\n",
    "    logger.info(f\"Final dataset contains {len(final_df)} unique transactions.\")\n",
    "    return final_df\n"
   ]
  },
  {
   "cell_type": "code",
   "execution_count": 3,
   "metadata": {},
   "outputs": [],
   "source": [
    "def process_and_save_transfers(transfers_df: pd.DataFrame, output_file: str) -> None:\n",
    "    \"\"\"\n",
    "    Process ERC20 transfers DataFrame and save to a CSV file.\n",
    "    \"\"\"\n",
    "    if not transfers_df.empty:\n",
    "        transfers_df['dateTime'] = pd.to_datetime(\n",
    "            pd.to_numeric(transfers_df['timeStamp'], errors='coerce'), unit='s', utc=True\n",
    "        ).dt.strftime('%Y-%m-%d %H:%M:%S')\n",
    "        cols = ['dateTime'] + [col for col in transfers_df.columns if col != 'dateTime']\n",
    "        transfers_df = transfers_df[cols]\n",
    "        output_file = os.path.join(output_file, 'erc20_transfers.csv')\n",
    "\n",
    "        transfers_df.to_csv(output_file, index=False, encoding='utf-8')\n",
    "        logger.info(f\"Data successfully saved to {output_file}\")\n",
    "    else:\n",
    "        logger.warning(\"No valid transfers to save. DataFrame is empty.\")"
   ]
  },
  {
   "cell_type": "code",
   "execution_count": 4,
   "metadata": {},
   "outputs": [
    {
     "name": "stderr",
     "output_type": "stream",
     "text": [
      "2024-12-17 12:03:40,064 - INFO - Fetching ERC20 transfers from block 21397030 to 21411357...\n"
     ]
    },
    {
     "name": "stdout",
     "output_type": "stream",
     "text": [
      "21397030 21411357\n"
     ]
    },
    {
     "name": "stderr",
     "output_type": "stream",
     "text": [
      "2024-12-17 12:03:41,250 - INFO - Page 1: Retrieved 94 transactions.\n",
      "2024-12-17 12:03:42,199 - WARNING - API request failed on page 2: Request failed: No transactions found\n",
      "2024-12-17 12:03:42,200 - INFO - Final dataset contains 94 unique transactions.\n",
      "2024-12-17 12:03:42,200 - INFO - Data successfully saved to C:/Users/YuweiCao/Documents/GitHub/Project/Project/etherscan/result\\erc20_transfers.csv\n"
     ]
    }
   ],
   "source": [
    "try:\n",
    "    # get the block numbers\n",
    "    start_block, end_block = get_block_numbers_by_date(start_date=START_DATE, end_date=END_DATE, include_all=False)\n",
    "    print(start_block, end_block)\n",
    "    # fetch the ERC20 transfers\n",
    "    transfers_df = fetch_erc20_transfers(address=ADDRESS, start_block=start_block, end_block=end_block)\n",
    "    \n",
    "    process_and_save_transfers(transfers_df, OUTPUT_FILE)\n",
    "\n",
    "except Exception as e:\n",
    "    logger.error(f\"An error occurred during the execution: {e}\")\n"
   ]
  }
 ],
 "metadata": {
  "kernelspec": {
   "display_name": "base",
   "language": "python",
   "name": "python3"
  },
  "language_info": {
   "codemirror_mode": {
    "name": "ipython",
    "version": 3
   },
   "file_extension": ".py",
   "mimetype": "text/x-python",
   "name": "python",
   "nbconvert_exporter": "python",
   "pygments_lexer": "ipython3",
   "version": "3.12.7"
  }
 },
 "nbformat": 4,
 "nbformat_minor": 2
}
