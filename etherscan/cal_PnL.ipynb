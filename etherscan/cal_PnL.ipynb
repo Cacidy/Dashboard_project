{
 "cells": [
  {
   "cell_type": "code",
   "execution_count": 4,
   "metadata": {},
   "outputs": [],
   "source": [
    "import pandas as pd\n",
    "from tabulate import tabulate\n",
    "from fetch_process_function import fetch_and_save_erc20_transfers, process_transactions"
   ]
  },
  {
   "cell_type": "code",
   "execution_count": 5,
   "metadata": {},
   "outputs": [],
   "source": [
    "def calculate_pnl(btc_record_df: pd.DataFrame) -> pd.DataFrame:\n",
    "    \"\"\"\n",
    "    Calculate PnL for BTC transactions based on BTC_record_df.\n",
    "\n",
    "    :param btc_record_df: DataFrame containing BTC transaction records.\n",
    "    :return: DataFrame with calculated PnL and summary of Realised and Unrealised PnL.\n",
    "    \"\"\"\n",
    "    \n",
    "    # Define current price as the price of the last row\n",
    "    current_price = btc_record_df.iloc[-1]['average_price']\n",
    "    \n",
    "    results = []\n",
    "    total_pnl = 0\n",
    "\n",
    "    for _, row in btc_record_df.iterrows():\n",
    "        transaction_type = row['transaction_type']\n",
    "        amount = row['other_token_volume']\n",
    "        price = row['average_price']\n",
    "\n",
    "        # Calculate PnL for each row based on the difference from the current price\n",
    "        pnl = (current_price - price) * amount\n",
    "        \n",
    "        # For SELL transactions, PnL is negative because it's reducing the position\n",
    "        if transaction_type == \"SELL\":\n",
    "            pnl *= -1\n",
    "\n",
    "        # Ignore the last row (current price reference)\n",
    "        if row.name == btc_record_df.index[-1]:\n",
    "            pnl = 0\n",
    "\n",
    "        total_pnl += pnl\n",
    "\n",
    "        # Append the result for this transaction\n",
    "        results.append({\n",
    "            \"Date\": row['dateTime'],\n",
    "            \"timeStamp\": row['timeStamp'],\n",
    "            \"Type\": transaction_type,\n",
    "            \"amount\": amount,\n",
    "            \"price\": price,\n",
    "            \"pnl\": pnl\n",
    "        })\n",
    "\n",
    "    # Convert results to a DataFrame\n",
    "    pnl_df = pd.DataFrame(results)\n",
    "\n",
    "    return pnl_df\n"
   ]
  },
  {
   "cell_type": "code",
   "execution_count": 6,
   "metadata": {},
   "outputs": [
    {
     "name": "stdout",
     "output_type": "stream",
     "text": [
      "Formatted Transactions: part 1\n",
      "Formatted Transactions: part 2\n",
      "Formatted Transactions: final part\n",
      "Total unique tokens: 4\n",
      "List of tokens: ['WLFI' 'cbBTC' 'WETH' 'OPTIMUS']\n",
      "Total PnL: 843.2596881283655\n"
     ]
    }
   ],
   "source": [
    "ADDRESS = \"0x5be9a4959308A0D0c7bC0870E319314d8D957dBB\"\n",
    "START_DATE = \"2024-12-06 08:00\" # Singapore Time，the function will convert it to UTC\n",
    "END_DATE = \"2024-12-12 08:00\"\n",
    "OUTPUT_FILE = \"C:/Users/YuweiCao/Documents/GitHub/Project/Project/etherscan/result\"\n",
    "API_KEY = \"VQAIR728IM4Z8RZKPYBR4ESM5I3WBZK2C1\"\n",
    "BASE_TOKENS = {\"USDT\", \"USDC\", \"USDE\"}\n",
    "# transfers_df = fetch_and_save_erc20_transfers(\n",
    "#         address=ADDRESS,\n",
    "#         start_date=START_DATE,\n",
    "#         end_date=END_DATE,\n",
    "#         output_file=OUTPUT_FILE,\n",
    "#         offset=1000,\n",
    "#     )\n",
    "transfers_df = pd.read_csv(OUTPUT_FILE + \"/all_erc20_transfers.csv\")\n",
    "record_df_1, record_df_2, record_df_3 = process_transactions(transfers_df, OUTPUT_FILE, ADDRESS, BASE_TOKENS)\n",
    "# print(tabulate(summary, headers='keys', tablefmt='grid', showindex=False, floatfmt=\".2f\"))\n",
    "unique_tokens_count = record_df_2[\"token_symbol\"].nunique()\n",
    "\n",
    "# 查看所有的代币种类\n",
    "unique_tokens = record_df_2[\"token_symbol\"].unique()\n",
    "\n",
    "# 打印结果\n",
    "print(f\"Total unique tokens: {unique_tokens_count}\")\n",
    "print(f\"List of tokens: {unique_tokens}\")\n",
    "\n",
    "BTC_record_df = record_df_1[record_df_1[\"formatted_record\"].str.contains(r\"\\bcbBTC\\b\", regex=True)]\n",
    "# print(BTC_record_df['formatted_record'])\n",
    "pnl_df = calculate_pnl(BTC_record_df)\n",
    "print(f\"Total PnL: {pnl_df['pnl'].sum()}\")\n",
    "\n"
   ]
  },
  {
   "cell_type": "code",
   "execution_count": null,
   "metadata": {},
   "outputs": [],
   "source": []
  }
 ],
 "metadata": {
  "kernelspec": {
   "display_name": "base",
   "language": "python",
   "name": "python3"
  },
  "language_info": {
   "codemirror_mode": {
    "name": "ipython",
    "version": 3
   },
   "file_extension": ".py",
   "mimetype": "text/x-python",
   "name": "python",
   "nbconvert_exporter": "python",
   "pygments_lexer": "ipython3",
   "version": "3.12.7"
  }
 },
 "nbformat": 4,
 "nbformat_minor": 2
}
