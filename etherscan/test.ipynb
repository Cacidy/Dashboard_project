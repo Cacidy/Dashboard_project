{
 "cells": [
  {
   "cell_type": "code",
   "execution_count": 9,
   "metadata": {},
   "outputs": [],
   "source": [
    "import pandas as pd\n",
    "def cal_token_trades(data: pd.DataFrame, ADDRESS: str):\n",
    "    ADDRESS = ADDRESS.lower()\n",
    "    data['trade_type'] = data.apply(\n",
    "        lambda x: 'sell' if x['from'] == ADDRESS else 'buy' if x['to'] == ADDRESS else None, axis=1\n",
    "    )\n",
    "    \n",
    "    data = data[data['trade_type'].notnull()]\n",
    "    buy_summary = data[data['trade_type'] == 'buy'].groupby('tokenSymbol').agg(\n",
    "        total_buy_cost=('ActualValue', 'sum')\n",
    "    ).reset_index()\n",
    "\n",
    "    sell_summary = data[data['trade_type'] == 'sell'].groupby('tokenSymbol').agg(\n",
    "        total_sell_proceeds=('ActualValue', 'sum')\n",
    "    ).reset_index()\n",
    "\n",
    "    summary = pd.merge(buy_summary, sell_summary, on='tokenSymbol', how='outer').fillna(0)\n",
    "\n",
    "    summary['net_profit'] = summary['total_sell_proceeds'] - summary['total_buy_cost']\n",
    "    # print(summary)\n",
    "    return summary\n",
    "\n"
   ]
  },
  {
   "cell_type": "code",
   "execution_count": 10,
   "metadata": {},
   "outputs": [
    {
     "name": "stdout",
     "output_type": "stream",
     "text": [
      "+---------------+------------------+-----------------------+-----------------+\n",
      "| tokenSymbol   |   total_buy_cost |   total_sell_proceeds |      net_profit |\n",
      "+===============+==================+=======================+=================+\n",
      "| APE           |             1.00 |                  0.00 |           -1.00 |\n",
      "+---------------+------------------+-----------------------+-----------------+\n",
      "| FLY           |        100000.00 |                  0.00 |      -100000.00 |\n",
      "+---------------+------------------+-----------------------+-----------------+\n",
      "| LMWR          |          3734.80 |                  0.00 |        -3734.80 |\n",
      "+---------------+------------------+-----------------------+-----------------+\n",
      "| MAGA          |          4747.00 |                  0.00 |        -4747.00 |\n",
      "+---------------+------------------+-----------------------+-----------------+\n",
      "| Niza          |          7320.00 |                  0.00 |        -7320.00 |\n",
      "+---------------+------------------+-----------------------+-----------------+\n",
      "| OPTIMUS       |         10000.00 |                  0.00 |       -10000.00 |\n",
      "+---------------+------------------+-----------------------+-----------------+\n",
      "| SAFE          |            12.35 |                  0.00 |          -12.35 |\n",
      "+---------------+------------------+-----------------------+-----------------+\n",
      "| USDC          |      43513882.83 |           35000000.00 |     -8513882.83 |\n",
      "+---------------+------------------+-----------------------+-----------------+\n",
      "| USDT          |       8056046.98 |            5000000.00 |     -3056046.98 |\n",
      "+---------------+------------------+-----------------------+-----------------+\n",
      "| WETH          |          1251.08 |                  0.00 |        -1251.08 |\n",
      "+---------------+------------------+-----------------------+-----------------+\n",
      "| WLFI          |  147500000769.70 |        53500000000.00 | -94000000769.70 |\n",
      "+---------------+------------------+-----------------------+-----------------+\n",
      "| cbBTC         |           102.90 |                  0.00 |         -102.90 |\n",
      "+---------------+------------------+-----------------------+-----------------+\n"
     ]
    }
   ],
   "source": [
    "from tabulate import tabulate\n",
    "from fetch_process_function import fetch_and_save_erc20_transfers, process_transactions, summarize_and_visualize\n",
    "\n",
    "ADDRESS = \"0x5be9a4959308A0D0c7bC0870E319314d8D957dBB\"\n",
    "START_DATE = \"2024-12-06 08:00\"\n",
    "END_DATE = \"2024-12-12 08:00\"\n",
    "OUTPUT_FILE = \"C:/Users/YuweiCao/Documents/GitHub/Project/Project/etherscan/result\"\n",
    "API_KEY = \"VQAIR728IM4Z8RZKPYBR4ESM5I3WBZK2C1\"\n",
    "BASE_TOKENS = {\"USDT\", \"USDC\", \"USDE\"}\n",
    "# transfers_df = fetch_and_save_erc20_transfers(\n",
    "#         address=ADDRESS,\n",
    "#         start_date=START_DATE,\n",
    "#         end_date=END_DATE,\n",
    "#         output_file=OUTPUT_FILE,\n",
    "#         offset=1000,\n",
    "#     )\n",
    "transfers_df = pd.read_csv(OUTPUT_FILE + \"/all_erc20_transfers.csv\")\n",
    "# final_record_df = process_transactions(transfers_df, OUTPUT_FILE, ADDRESS, BASE_TOKENS)\n",
    "summary = cal_token_trades(transfers_df, ADDRESS)\n",
    "print(tabulate(summary, headers='keys', tablefmt='grid', showindex=False, floatfmt=\".2f\"))\n",
    "\n"
   ]
  },
  {
   "cell_type": "code",
   "execution_count": null,
   "metadata": {},
   "outputs": [],
   "source": []
  }
 ],
 "metadata": {
  "kernelspec": {
   "display_name": "base",
   "language": "python",
   "name": "python3"
  },
  "language_info": {
   "codemirror_mode": {
    "name": "ipython",
    "version": 3
   },
   "file_extension": ".py",
   "mimetype": "text/x-python",
   "name": "python",
   "nbconvert_exporter": "python",
   "pygments_lexer": "ipython3",
   "version": "3.12.7"
  }
 },
 "nbformat": 4,
 "nbformat_minor": 2
}
