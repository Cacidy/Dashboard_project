{
 "cells": [
  {
   "cell_type": "code",
   "execution_count": 23,
   "metadata": {},
   "outputs": [],
   "source": [
    "import requests\n",
    "import json\n",
    "import time\n",
    "import pandas as pd\n",
    "from datetime import datetime\n",
    "from typing import Tuple, List, Optional\n",
    "from etherscan_functions import get_erc20_transfers, get_block_number_by_timestamp\n",
    "\n",
    "api_key = \"VQAIR728IM4Z8RZKPYBR4ESM5I3WBZK2C1\" # my free API key, you can get one at https://etherscan.io/myapikey\n",
    "base_url = \"https://api.etherscan.io/v2/api\" # We're using the v2 API 2024/12/12\n",
    "ADDRESS = \"0x5be9a4959308A0D0c7bC0870E319314d8D957dBB\" # Address of the contract we want to get the source code of\n",
    "chain_id = 1  # Ethereum Mainnet"
   ]
  },
  {
   "cell_type": "code",
   "execution_count": 24,
   "metadata": {},
   "outputs": [],
   "source": [
    "def get_block_numbers(\n",
    "    start_date: str,\n",
    "    end_date: str,\n",
    "    closest: str = \"before\",\n",
    "    include_all: bool = False,\n",
    ") -> List[int]:\n",
    "    \"\"\"\n",
    "    Returns block numbers for a specified date range.\n",
    "\n",
    "    :param start_date: Start date in 'YYYY-MM-DD' format.\n",
    "    :param end_date: End date in 'YYYY-MM-DD' format.\n",
    "    :param closest: 'before' or 'after', to find the closest block.\n",
    "    :param include_all: If True, returns all block numbers in the range. \n",
    "                        If False, only returns the start and end block numbers.\n",
    "    :return: A list of block numbers. \n",
    "             If include_all is True, includes all blocks in the range. \n",
    "             Otherwise, includes only the start and end block numbers.\n",
    "\n",
    "    :raises ValueError: If input dates are invalid or API responses indicate failure.\n",
    "    :raises ConnectionError: If the HTTP request fails.\n",
    "    \"\"\"\n",
    "    # Convert dates to Unix timestamps\n",
    "    try:\n",
    "        start_timestamp = int(datetime.strptime(start_date, \"%Y-%m-%d\").timestamp())\n",
    "        end_timestamp = int(datetime.strptime(end_date, \"%Y-%m-%d\").timestamp())\n",
    "    except ValueError:\n",
    "        raise ValueError(\"Dates must be in 'YYYY-MM-DD' format.\")\n",
    "\n",
    "    if start_timestamp >= end_timestamp:\n",
    "        raise ValueError(\"Start date must be earlier than end date.\")\n",
    "    \n",
    "    # Get block numbers for the start and end timestamps\n",
    "    start_block = get_block_number_by_timestamp(timestamp=start_timestamp, closest=closest)\n",
    "    end_block = get_block_number_by_timestamp(timestamp=end_timestamp, closest=closest)\n",
    "\n",
    "    # If include_all is True, generate the list of all blocks in the range\n",
    "    if include_all:\n",
    "        return list(range(start_block, end_block + 1))\n",
    "    \n",
    "    # Otherwise, return just the start and end blocks\n",
    "    return [start_block, end_block]"
   ]
  },
  {
   "cell_type": "code",
   "execution_count": 26,
   "metadata": {},
   "outputs": [],
   "source": [
    "# start_block, end_block = get_block_numbers(start_date=\"2024-11-10\", end_date=\"2024-11-16\", closest=\"before\", include_all=False)\n",
    "# set 'before' to get the block number less or qual to the timestamp. set 'after' to get the block number greater or equal to the timestamp\n",
    "\n",
    "start_block, _ = get_block_numbers(start_date=\"2024-11-10\", end_date=\"2024-11-16\", closest=\"before\", include_all=False)\n",
    "_, end_block = get_block_numbers(start_date=\"2024-11-10\", end_date=\"2024-11-16\", closest=\"after\", include_all=False)\n",
    "\n",
    "transfers = get_erc20_transfers(\n",
    "        address=ADDRESS,\n",
    "        contract_address=None,\n",
    "        startblock=start_block,\n",
    "        endblock=end_block,\n",
    "        page=1,\n",
    "        offset=100,\n",
    "    )\n",
    "transfers['dateTime'] = pd.to_datetime(pd.to_numeric(transfers['timeStamp'], errors='coerce'), unit='s').dt.strftime('%Y-%m-%d %H:%M:%S')\n",
    "# Reorder columns, moving 'dateTime' to the front\n",
    "cols = ['dateTime'] + [col for col in transfers if col != 'dateTime']\n",
    "transfers = transfers[cols]\n",
    "\n",
    "transfers.describe()\n",
    "transfers.to_csv('./erc20_transfers.csv', index=False)\n"
   ]
  },
  {
   "cell_type": "code",
   "execution_count": null,
   "metadata": {},
   "outputs": [],
   "source": []
  }
 ],
 "metadata": {
  "kernelspec": {
   "display_name": "base",
   "language": "python",
   "name": "python3"
  },
  "language_info": {
   "codemirror_mode": {
    "name": "ipython",
    "version": 3
   },
   "file_extension": ".py",
   "mimetype": "text/x-python",
   "name": "python",
   "nbconvert_exporter": "python",
   "pygments_lexer": "ipython3",
   "version": "3.12.7"
  }
 },
 "nbformat": 4,
 "nbformat_minor": 2
}
