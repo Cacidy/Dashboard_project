{
 "cells": [
  {
   "cell_type": "code",
   "execution_count": 1,
   "metadata": {},
   "outputs": [
    {
     "name": "stderr",
     "output_type": "stream",
     "text": [
      "2024-12-20 22:29:32,126 - INFO - Start block: 21368389, End block: 21382703\n",
      "2024-12-20 22:29:32,126 - INFO - Fetching ERC20 transfers from block 21368389 to 21382703...\n",
      "2024-12-20 22:29:33,173 - INFO - Page 1: Retrieved 35 transactions.\n",
      "2024-12-20 22:29:34,141 - WARNING - API request failed on page 2: Request failed: No transactions found\n",
      "2024-12-20 22:29:34,151 - INFO - Final dataset contains 35 unique transactions.\n",
      "2024-12-20 22:29:34,185 - INFO - Data successfully saved to C:/Users/YuweiCao/Documents/GitHub/Project/etherscan/result\\erc20_transfers.csv\n",
      "2024-12-20 22:29:34,194 - INFO - Transfers saved to C:/Users/YuweiCao/Documents/GitHub/Project/etherscan/result\n"
     ]
    },
    {
     "name": "stdout",
     "output_type": "stream",
     "text": [
      "Formatted Transactions: part 1\n",
      "Formatted Transactions: part 2\n",
      "1733940791 W 'BUY' 10000000000000 OPTIMUS of 2187457492438 USDC (at 2024-12-11 18:13:11)\n",
      "Formatted Transactions: final part\n",
      "1733794511 W single BUY 25541000000 USDT (at 2024-12-10 01:35:11)\n",
      "1733808299 W single BUY 682700000 USDT (at 2024-12-10 05:24:59)\n",
      "1733809571 W single BUY 103070000 USDT (at 2024-12-10 05:46:11)\n",
      "1733823263 W single BUY 100035268 USDC (at 2024-12-10 09:34:23)\n",
      "1733827811 W single BUY 188000000 USDT (at 2024-12-10 10:50:11)\n",
      "1733829875 W single BUY 990000000 USDT (at 2024-12-10 11:24:35)\n",
      "1733831435 W single BUY 239131209 USDT (at 2024-12-10 11:50:35)\n",
      "1733831567 W single SELL 5470000000000000 WETH (at 2024-12-10 11:52:47)\n",
      "1733837087 W single BUY 1043248700 USDT (at 2024-12-10 13:24:47)\n",
      "1733842199 W single BUY 4923000000 USDT (at 2024-12-10 14:49:59)\n",
      "1733852735 W single BUY 22082304898 USDT (at 2024-12-10 17:45:35)\n",
      "1733853203 W single BUY 340240000 USDT (at 2024-12-10 17:53:23)\n",
      "1733863355 W single BUY 122572044 USDC (at 2024-12-10 20:42:35)\n",
      "1733863535 W single BUY 183506266 USDT (at 2024-12-10 20:45:35)\n",
      "1733876159 W single BUY 100000000 USDC (at 2024-12-11 00:15:59)\n",
      "1733877095 W single SELL 769695778409200000000 WLFI (at 2024-12-11 00:31:35)\n",
      "1733879579 W single BUY 9999900000000 USDC (at 2024-12-11 01:12:59)\n",
      "1733886083 W single BUY 6000000000 USDT (at 2024-12-11 03:01:23)\n",
      "1733887859 W single BUY 975000000 USDT (at 2024-12-11 03:30:59)\n",
      "1733905319 W single BUY 3946510000 USDT (at 2024-12-11 08:21:59)\n",
      "1733911067 W single BUY 75000000 USDT (at 2024-12-11 09:57:47)\n",
      "1733911895 W single BUY 148490625 USDT (at 2024-12-11 10:11:35)\n",
      "1733915039 W single BUY 10004158509 USDT (at 2024-12-11 11:03:59)\n",
      "1733917115 W single BUY 130000000 USDT (at 2024-12-11 11:38:35)\n",
      "1733928227 W single BUY 5400000000 USDT (at 2024-12-11 14:43:47)\n",
      "1733928707 W single BUY 972510100 USDT (at 2024-12-11 14:51:47)\n",
      "1733929391 W single BUY 201440000 USDT (at 2024-12-11 15:03:11)\n",
      "1733934983 W single BUY 1419806887 USDT (at 2024-12-11 16:36:23)\n",
      "1733940743 W single SELL 625029131134 USDC (at 2024-12-11 18:12:23)\n",
      "1733940767 W single SELL 2187513376428 USDC (at 2024-12-11 18:12:47)\n",
      "1733940791 W 'BUY' 10000000000000 OPTIMUS of 2187457492438 USDC (at 2024-12-11 18:13:11)\n",
      "1733946035 W single SELL 3500000000000000000000 LMWR (at 2024-12-11 19:40:35)\n",
      "1733953895 W single BUY 1009692044 USDT (at 2024-12-11 21:51:35)\n",
      "1733960351 W single BUY 23731855 USDT (at 2024-12-11 23:39:11)\n"
     ]
    }
   ],
   "source": [
    "from data_fetch_function import fetch_and_save_erc20_transfers, process_transactions\n",
    "\n",
    "\n",
    "ADDRESS = \"0x5be9a4959308A0D0c7bC0870E319314d8D957dBB\"\n",
    "START_DATE = \"2024-12-10 08:00\"\n",
    "END_DATE = \"2024-12-12 08:00\"\n",
    "OUTPUT_FILE = \"C:/Users/YuweiCao/Documents/GitHub/Project/etherscan/result\"\n",
    "API_KEY = \"VQAIR728IM4Z8RZKPYBR4ESM5I3WBZK2C1\"\n",
    "BASE_TOKENS = {\"USDT\", \"USDC\", \"USDE\"}\n",
    "transfers_df = fetch_and_save_erc20_transfers(\n",
    "        address=ADDRESS,\n",
    "        start_date=START_DATE,\n",
    "        end_date=END_DATE,\n",
    "        output_file=OUTPUT_FILE\n",
    "    )\n",
    "process_transactions(transfers_df, OUTPUT_FILE, ADDRESS, BASE_TOKENS)\n"
   ]
  },
  {
   "cell_type": "code",
   "execution_count": null,
   "metadata": {},
   "outputs": [],
   "source": []
  }
 ],
 "metadata": {
  "kernelspec": {
   "display_name": "Python 3",
   "language": "python",
   "name": "python3"
  },
  "language_info": {
   "codemirror_mode": {
    "name": "ipython",
    "version": 3
   },
   "file_extension": ".py",
   "mimetype": "text/x-python",
   "name": "python",
   "nbconvert_exporter": "python",
   "pygments_lexer": "ipython3",
   "version": "3.10.7"
  }
 },
 "nbformat": 4,
 "nbformat_minor": 2
}
