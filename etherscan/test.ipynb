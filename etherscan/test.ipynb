{
 "cells": [
  {
   "cell_type": "code",
   "execution_count": 5,
   "metadata": {},
   "outputs": [
    {
     "name": "stderr",
     "output_type": "stream",
     "text": [
      "2024-12-23 14:34:13,940 - INFO - Start block: 11480310, End block: 21432853\n",
      "2024-12-23 14:34:13,940 - INFO - Fetching ERC20 transfers from block 11480310 to 21432853...\n",
      "2024-12-23 14:34:17,345 - INFO - Page 1: Retrieved 4673 transactions.\n",
      "2024-12-23 14:34:18,261 - WARNING - API request failed on page 2: Request failed: Result window is too large, PageNo x Offset size must be less than or equal to 10000\n",
      "2024-12-23 14:34:18,261 - INFO - Final dataset contains 4673 unique transactions.\n",
      "2024-12-23 14:34:18,301 - INFO - Data successfully saved to C:/Users/YuweiCao/Documents/GitHub/Project/etherscan/result\\erc20_transfers.csv\n",
      "2024-12-23 14:34:18,302 - INFO - Transfers saved to C:/Users/YuweiCao/Documents/GitHub/Project/etherscan/result\n"
     ]
    }
   ],
   "source": [
    "from fetch_process_function import fetch_and_save_erc20_transfers, process_transactions, summarize_and_visualize\n",
    "\n",
    "ADDRESS = \"0x5be9a4959308A0D0c7bC0870E319314d8D957dBB\"\n",
    "START_DATE = \"2020-12-19 08:00\"\n",
    "END_DATE = \"2024-12-19 08:00\"\n",
    "OUTPUT_FILE = \"C:/Users/YuweiCao/Documents/GitHub/Project/etherscan/result\"\n",
    "API_KEY = \"VQAIR728IM4Z8RZKPYBR4ESM5I3WBZK2C1\"\n",
    "BASE_TOKENS = {\"USDT\", \"USDC\", \"USDE\"}\n",
    "transfers_df = fetch_and_save_erc20_transfers(\n",
    "        address=ADDRESS,\n",
    "        start_date=START_DATE,\n",
    "        end_date=END_DATE,\n",
    "        output_file=OUTPUT_FILE,\n",
    "        offset=10000,\n",
    "    )\n",
    "# final_record_df  = process_transactions(transfers_df, OUTPUT_FILE, ADDRESS, BASE_TOKENS)\n",
    "# summary_df = summarize_and_visualize(final_record_df, BASE_TOKENS)"
   ]
  },
  {
   "cell_type": "code",
   "execution_count": null,
   "metadata": {},
   "outputs": [],
   "source": []
  }
 ],
 "metadata": {
  "kernelspec": {
   "display_name": "base",
   "language": "python",
   "name": "python3"
  },
  "language_info": {
   "codemirror_mode": {
    "name": "ipython",
    "version": 3
   },
   "file_extension": ".py",
   "mimetype": "text/x-python",
   "name": "python",
   "nbconvert_exporter": "python",
   "pygments_lexer": "ipython3",
   "version": "3.12.7"
  }
 },
 "nbformat": 4,
 "nbformat_minor": 2
}
