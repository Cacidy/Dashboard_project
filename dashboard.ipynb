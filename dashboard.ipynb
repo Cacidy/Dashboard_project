{
 "cells": [
  {
   "cell_type": "code",
   "execution_count": 1,
   "metadata": {},
   "outputs": [],
   "source": [
    "import requests\n",
    "import pandas as pd\n",
    "import numpy as np\n",
    "import plotly.express as px\n",
    "import plotly.graph_objs as go\n",
    "from dash import Dash, dcc, html, Input, Output"
   ]
  },
  {
   "cell_type": "code",
   "execution_count": 2,
   "metadata": {},
   "outputs": [],
   "source": [
    "# Step 1: Fetch data from DeFiLlama API\n",
    "def fetch_data():\n",
    "    url = 'https://api.llama.fi/v2/chains'\n",
    "    response = requests.get(url)\n",
    "    if response.status_code == 200: # data was fetched successfully\n",
    "        data = response.json()\n",
    "        return pd.DataFrame(data)\n",
    "    else:\n",
    "        raise Exception('Error fetching data from DeFiLlama API')\n",
    "\n",
    "def fetch_historical_tvl(chain_name):\n",
    "    url = f'https://api.llama.fi/v2/historicalChainTvl/{chain_name}'\n",
    "    response = requests.get(url)\n",
    "    if response.status_code == 200:\n",
    "        data = response.json()\n",
    "        df = pd.DataFrame(data)  # Directly create DataFrame from the list of dictionaries\n",
    "        df['date'] = pd.to_datetime(df['date'], unit='s')\n",
    "        return df.tail(120)  # Get the last 120 days\n",
    "    else:\n",
    "        raise Exception(f'Error fetching historical TVL data for {chain_name}')\n",
    "\n",
    "# Step 2: Prepare the data\n",
    "def prepare_data(df):\n",
    "    # Keep only name and tvl\n",
    "    df = df[['name', 'tvl']]\n",
    "    \n",
    "    # Sort the data to get the top 10 chains by TVL\n",
    "    df = df.sort_values(by='tvl', ascending=False).head(10)\n",
    "    \n",
    "    return df\n",
    "\n"
   ]
  },
  {
   "cell_type": "code",
   "execution_count": 3,
   "metadata": {},
   "outputs": [],
   "source": [
    "# Step 3: Create the Dash app and the layout\n",
    "def create_dashboard(df):\n",
    "    app = Dash(__name__)\n",
    "    app.layout = html.Div([\n",
    "        html.H1('Top 10 Chains Dashboard'),\n",
    "        dcc.Dropdown(\n",
    "            id='metric-dropdown',\n",
    "            options=[\n",
    "                {'label': 'Total Value Locked (TVL)', 'value': 'tvl'}\n",
    "            ],\n",
    "            value='tvl'\n",
    "        ),\n",
    "        dcc.Graph(id='bar-chart'),\n",
    "        dcc.Graph(id='historical-tvl-chart')\n",
    "    ])\n",
    "\n",
    "    # Step 4: Add callback to update the chart based on selected metric\n",
    "    @app.callback(\n",
    "        [Output('bar-chart', 'figure'),\n",
    "         Output('historical-tvl-chart', 'figure')],\n",
    "        [Input('metric-dropdown', 'value')]\n",
    "    )\n",
    "    def update_charts(selected_metric):\n",
    "        # Bar Chart for selected metric\n",
    "        bar_fig = px.bar(df, x='name', y=selected_metric, title=f'Top 10 Chains by {selected_metric.upper()}')\n",
    "        \n",
    "        # Line Chart for historical TVL of top 10 chains\n",
    "        historical_tvl_fig = go.Figure()\n",
    "        for chain_name in df['name']:\n",
    "            historical_tvl_df = fetch_historical_tvl(chain_name)\n",
    "            historical_tvl_fig.add_trace(go.Scatter(\n",
    "                x=historical_tvl_df['date'],\n",
    "                y=historical_tvl_df['tvl'],\n",
    "                mode='lines',\n",
    "                name=chain_name\n",
    "            ))\n",
    "        historical_tvl_fig.update_layout(title='Historical TVL of Top 10 Chains (Last 120 Days)')\n",
    "        \n",
    "        return bar_fig, historical_tvl_fig\n",
    "\n",
    "    return app"
   ]
  },
  {
   "cell_type": "code",
   "execution_count": 4,
   "metadata": {},
   "outputs": [
    {
     "data": {
      "text/html": [
       "\n",
       "        <iframe\n",
       "            width=\"100%\"\n",
       "            height=\"650\"\n",
       "            src=\"http://127.0.0.1:8050/\"\n",
       "            frameborder=\"0\"\n",
       "            allowfullscreen\n",
       "            \n",
       "        ></iframe>\n",
       "        "
      ],
      "text/plain": [
       "<IPython.lib.display.IFrame at 0x2aad30073e0>"
      ]
     },
     "metadata": {},
     "output_type": "display_data"
    }
   ],
   "source": [
    "# Step 5: Run the app if the script is executed directly\n",
    "if __name__ == '__main__':\n",
    "    df = fetch_data()\n",
    "    df = prepare_data(df)\n",
    "    app = create_dashboard(df)\n",
    "    app.run_server(debug=True, use_reloader=False)  # Disable reloader to prevent multiple fetches of data"
   ]
  },
  {
   "cell_type": "code",
   "execution_count": null,
   "metadata": {},
   "outputs": [],
   "source": []
  }
 ],
 "metadata": {
  "kernelspec": {
   "display_name": "base",
   "language": "python",
   "name": "python3"
  },
  "language_info": {
   "codemirror_mode": {
    "name": "ipython",
    "version": 3
   },
   "file_extension": ".py",
   "mimetype": "text/x-python",
   "name": "python",
   "nbconvert_exporter": "python",
   "pygments_lexer": "ipython3",
   "version": "3.12.7"
  }
 },
 "nbformat": 4,
 "nbformat_minor": 2
}
