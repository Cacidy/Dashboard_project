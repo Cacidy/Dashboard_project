{
 "cells": [
  {
   "cell_type": "code",
   "execution_count": 1,
   "metadata": {},
   "outputs": [],
   "source": [
    "import pandas as pd\n",
    "import requests\n",
    "import os"
   ]
  },
  {
   "cell_type": "code",
   "execution_count": 2,
   "metadata": {},
   "outputs": [
    {
     "name": "stdout",
     "output_type": "stream",
     "text": [
      "         name           tvl\n",
      "15   Ethereum  6.562908e+10\n",
      "46     Solana  8.739363e+09\n",
      "90       Tron  7.555194e+09\n",
      "6         BSC  5.188040e+09\n",
      "52    Bitcoin  4.136139e+09\n",
      "10       Base  3.380602e+09\n",
      "8    Arbitrum  3.011868e+09\n",
      "12  Avalanche  1.397563e+09\n",
      "93        Sui  1.372728e+09\n",
      "57      Aptos  1.107875e+09\n"
     ]
    }
   ],
   "source": [
    "# you can get the chain list straihgt from the API\n",
    "url = 'https://api.llama.fi/v2/chains'\n",
    "response = requests.get(url)\n",
    "if response.status_code == 200: # data was fetched successfully\n",
    "    data = response.json()\n",
    "    df = pd.DataFrame(data)\n",
    "else:\n",
    "    raise Exception('Error fetching data from DeFiLlama API')\n",
    "\n",
    "dex_all_chains_url = \"https://api.llama.fi/overview/dexs?excludeTotalDataChart=true&excludeTotalDataChartBreakdown=true&dataType=dailyVolume\"\n",
    "dex_all_chains_response = requests.get(dex_all_chains_url)\n",
    "\n",
    "dex_all_chains_data = dex_all_chains_response.json()\n",
    "dex_all_chains = set(dex_all_chains_data.get('allChains', []))\n",
    "\n",
    "\n",
    "fees_all_chains_url = \"https://api.llama.fi/overview/fees?excludeTotalDataChart=true&excludeTotalDataChartBreakdown=true&dataType=dailyFees\"\n",
    "fees_all_chains_response = requests.get(fees_all_chains_url)\n",
    "\n",
    "fees_all_chains_data = fees_all_chains_response.json()\n",
    "fees_all_chains = set(fees_all_chains_data.get('allChains', []))\n",
    "\n",
    "common_chains = dex_all_chains.intersection(fees_all_chains)\n",
    "\n",
    "df = df[['name', 'tvl']]\n",
    "df = df[df['name'].isin(common_chains)]\n",
    "\n",
    "# Sort the data to get the top 10 chains by TVL\n",
    "df = df.sort_values(by='tvl', ascending=False).head(10)\n",
    "print(df)\n",
    "\n",
    "base_folder = './data'\n",
    "fee_folder = os.path.join(base_folder, 'fee')\n",
    "tvl_folder = os.path.join(base_folder, 'tvl')\n",
    "volume_folder = os.path.join(base_folder, 'volume')\n",
    "\n",
    "for folder in [fee_folder, tvl_folder, volume_folder]:\n",
    "    if not os.path.exists(folder):\n",
    "        os.makedirs(folder)"
   ]
  },
  {
   "cell_type": "code",
   "execution_count": 3,
   "metadata": {},
   "outputs": [],
   "source": [
    "def fetch_historical_data(chain_name, metric):\n",
    "    if metric == 'tvl':\n",
    "        url = f'https://api.llama.fi/v2/historicalChainTvl/{chain_name}'\n",
    "        response = requests.get(url)\n",
    "        if response.status_code == 200:\n",
    "            data = response.json()\n",
    "            df = pd.DataFrame(data)  # Directly create DataFrame from the list of dictionaries\n",
    "            df['date'] = pd.to_datetime(df['date'], unit='s')\n",
    "            csv_filename = os.path.join(tvl_folder, f\"{chain_name}_{metric}.csv\")\n",
    "            df = df[['date', metric]].tail(365)\n",
    "            df.to_csv(csv_filename, index=False)\n",
    "            print(f\"Saved {metric} data for {chain_name} to {csv_filename}\")\n",
    "        else:\n",
    "            raise Exception(f'Error fetching historical {metric} data for {chain_name}')\n",
    "        \n",
    "    elif metric == 'volume':\n",
    "        url = (f'https://api.llama.fi/overview/dexs/{chain_name}'\n",
    "                  '?excludeTotalDataChart=false'\n",
    "                  '&excludeTotalDataChartBreakdown=true'\n",
    "                  '&dataType=dailyVolume')\n",
    "        response = requests.get(url)\n",
    "        if response.status_code == 200:\n",
    "            data = response.json()\n",
    "            df = pd.DataFrame(data['totalDataChart'], columns=['timestamp', metric])   \n",
    "            df['date'] = pd.to_datetime(df['timestamp'], unit='s')\n",
    "            df = df.sort_values(by='date')\n",
    "            df = df[['date', metric]].tail(365)\n",
    "            csv_filename = os.path.join(volume_folder, f\"{chain_name}_{metric}.csv\")\n",
    "            df.to_csv(csv_filename, index=False)\n",
    "            print(f\"Saved {metric} data for {chain_name} to {csv_filename}\")\n",
    "        else:\n",
    "            raise Exception(f'Error fetching historical {metric} data for {chain_name}')\n",
    "        \n",
    "    elif metric == 'fee':\n",
    "        url = (f'https://api.llama.fi/overview/fees/{chain_name}'\n",
    "                  '?excludeTotalDataChart=false'\n",
    "                  '&excludeTotalDataChartBreakdown=true'\n",
    "                  '&dataType=dailyFees')\n",
    "        response = requests.get(url)\n",
    "        if response.status_code == 200:\n",
    "            data = response.json()\n",
    "            df = pd.DataFrame(data['totalDataChart'], columns=['timestamp', metric])   \n",
    "            df['date'] = pd.to_datetime(df['timestamp'], unit='s')\n",
    "            df = df.sort_values(by='date')\n",
    "            df = df[['date', metric]].tail(365)\n",
    "            csv_filename = os.path.join(fee_folder, f\"{chain_name}_{metric}.csv\")\n",
    "            df.to_csv(csv_filename, index=False)\n",
    "            print(f\"Saved {metric} data for {chain_name} to {csv_filename}\")\n",
    "        else:\n",
    "            raise Exception(f'Error fetching historical {metric} data for {chain_name}')\n",
    "    else:\n",
    "        raise ValueError('Invalid metric specified')"
   ]
  },
  {
   "cell_type": "code",
   "execution_count": 4,
   "metadata": {},
   "outputs": [
    {
     "name": "stdout",
     "output_type": "stream",
     "text": [
      "Saved tvl data for Ethereum to ./data\\tvl\\Ethereum_tvl.csv\n",
      "Saved volume data for Ethereum to ./data\\volume\\Ethereum_volume.csv\n",
      "Saved fee data for Ethereum to ./data\\fee\\Ethereum_fee.csv\n",
      "Saved tvl data for Solana to ./data\\tvl\\Solana_tvl.csv\n",
      "Saved volume data for Solana to ./data\\volume\\Solana_volume.csv\n",
      "Saved fee data for Solana to ./data\\fee\\Solana_fee.csv\n",
      "Saved tvl data for Tron to ./data\\tvl\\Tron_tvl.csv\n",
      "Saved volume data for Tron to ./data\\volume\\Tron_volume.csv\n",
      "Saved fee data for Tron to ./data\\fee\\Tron_fee.csv\n",
      "Saved tvl data for BSC to ./data\\tvl\\BSC_tvl.csv\n",
      "Saved volume data for BSC to ./data\\volume\\BSC_volume.csv\n",
      "Saved fee data for BSC to ./data\\fee\\BSC_fee.csv\n",
      "Saved tvl data for Bitcoin to ./data\\tvl\\Bitcoin_tvl.csv\n",
      "Saved volume data for Bitcoin to ./data\\volume\\Bitcoin_volume.csv\n",
      "Saved fee data for Bitcoin to ./data\\fee\\Bitcoin_fee.csv\n",
      "Saved tvl data for Base to ./data\\tvl\\Base_tvl.csv\n",
      "Saved volume data for Base to ./data\\volume\\Base_volume.csv\n",
      "Saved fee data for Base to ./data\\fee\\Base_fee.csv\n",
      "Saved tvl data for Arbitrum to ./data\\tvl\\Arbitrum_tvl.csv\n",
      "Saved volume data for Arbitrum to ./data\\volume\\Arbitrum_volume.csv\n",
      "Saved fee data for Arbitrum to ./data\\fee\\Arbitrum_fee.csv\n",
      "Saved tvl data for Avalanche to ./data\\tvl\\Avalanche_tvl.csv\n",
      "Saved volume data for Avalanche to ./data\\volume\\Avalanche_volume.csv\n",
      "Saved fee data for Avalanche to ./data\\fee\\Avalanche_fee.csv\n",
      "Saved tvl data for Sui to ./data\\tvl\\Sui_tvl.csv\n",
      "Saved volume data for Sui to ./data\\volume\\Sui_volume.csv\n",
      "Saved fee data for Sui to ./data\\fee\\Sui_fee.csv\n",
      "Saved tvl data for Aptos to ./data\\tvl\\Aptos_tvl.csv\n",
      "Saved volume data for Aptos to ./data\\volume\\Aptos_volume.csv\n",
      "Saved fee data for Aptos to ./data\\fee\\Aptos_fee.csv\n"
     ]
    }
   ],
   "source": [
    "for chain_name in df['name']:\n",
    "    for metric in ['tvl', 'volume', 'fee']:\n",
    "        fetch_historical_data(chain_name, metric)"
   ]
  },
  {
   "cell_type": "code",
   "execution_count": null,
   "metadata": {},
   "outputs": [],
   "source": [
    "\n",
    "    "
   ]
  }
 ],
 "metadata": {
  "kernelspec": {
   "display_name": "base",
   "language": "python",
   "name": "python3"
  },
  "language_info": {
   "codemirror_mode": {
    "name": "ipython",
    "version": 3
   },
   "file_extension": ".py",
   "mimetype": "text/x-python",
   "name": "python",
   "nbconvert_exporter": "python",
   "pygments_lexer": "ipython3",
   "version": "3.12.7"
  }
 },
 "nbformat": 4,
 "nbformat_minor": 2
}
