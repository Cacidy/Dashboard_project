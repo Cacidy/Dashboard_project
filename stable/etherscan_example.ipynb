{
 "cells": [
  {
   "cell_type": "code",
   "execution_count": 2,
   "metadata": {},
   "outputs": [],
   "source": [
    "import requests\n",
    "import json\n",
    "from datetime import datetime\n",
    "from etherscan_functions import get_ether_balance, get_multi_address_balance, get_normal_transactions, get_internal_transactions,\\\n",
    "    get_erc20_transfers, get_contract_abi\n",
    "\n",
    "api_key = \"VQAIR728IM4Z8RZKPYBR4ESM5I3WBZK2C1\" # free API key, you can get one at https://etherscan.io/myapikey\n",
    "base_url = \"https://api.etherscan.io/v2/api\" # We're using the v2 API 2024/12/12\n",
    "ADDRESS = \"0x5be9a4959308A0D0c7bC0870E319314d8D957dBB\" # Address of the contract we want to get the source code of\n",
    "chain_id = 1  # Ethereum Mainnet"
   ]
  },
  {
   "cell_type": "code",
   "execution_count": 3,
   "metadata": {},
   "outputs": [
    {
     "name": "stdout",
     "output_type": "stream",
     "text": [
      "Address: 0x5be9a4959308A0D0c7bC0870E319314d8D957dBB Balance: 14579.665307 ETH\n"
     ]
    }
   ],
   "source": [
    "balance = get_ether_balance(ADDRESS)\n",
    "print(f\"Address: {ADDRESS} Balance: {balance:.6f} ETH\")"
   ]
  },
  {
   "cell_type": "code",
   "execution_count": 5,
   "metadata": {},
   "outputs": [
    {
     "name": "stdout",
     "output_type": "stream",
     "text": [
      "Address: 0xddbd2b932c763ba5b1b7ae3b362eac3e8d40121a, Balance: 40891.626855 ETH\n",
      "Address: 0x63a9975ba31b0b9626b34300f7f627147df1f526, Balance: 332.567468 ETH\n",
      "Address: 0x198ef1ec325a96cc354c7266a038be8b5c558f67, Balance: 0.021000 ETH\n"
     ]
    }
   ],
   "source": [
    "addresses = [\n",
    "        \"0xddbd2b932c763ba5b1b7ae3b362eac3e8d40121a\",\n",
    "        \"0x63a9975ba31b0b9626b34300f7f627147df1f526\",\n",
    "        \"0x198ef1ec325a96cc354c7266a038be8b5c558f67\"\n",
    "    ]\n",
    "balances = get_multi_address_balance(addresses)\n",
    "for address, balance in balances.items():\n",
    "    print(f\"Address: {address}, Balance: {balance:.6f} ETH\")"
   ]
  },
  {
   "cell_type": "code",
   "execution_count": 6,
   "metadata": {},
   "outputs": [
    {
     "name": "stdout",
     "output_type": "stream",
     "text": [
      "Transaction Hash: 0xaf9b7a01530d4fd1a7e1c4ae9e32eb7c94c6a652e5e5d8d3124ca5f67335b0ee, Value: 0.0 ETH\n",
      "Transaction Hash: 0x7c46215664c39213e791baffbc505b814d47d36de5a41edbd5ff2ac697e9232b, Value: 0.0 ETH\n",
      "Transaction Hash: 0x560d80e1406ec51f91e9cf2414b93321094afb6bc3f503760c397e23c9568166, Value: 0.0 ETH\n",
      "Transaction Hash: 0x1fa560f8d2b1d7b487758fad869fd81961f6cc16276dade534a550d30868f120, Value: 0.0 ETH\n",
      "Transaction Hash: 0x4d94290a17168decabd8ade7715a315ab5d8f5cdfb95ba9c745fc1760569b3de, Value: 0.0 ETH\n",
      "Transaction Hash: 0xcad66d50696b3ffeb47032b75dc8d60c0f4c7c9cea81e04c392f12ae347a4ae7, Value: 0.0 ETH\n",
      "Transaction Hash: 0xb1733a463992810ed380a1af5571a6167c0af5f88256ae2bfc83726ccf63d589, Value: 0.0 ETH\n",
      "Transaction Hash: 0x441cf2d81c58ce765993612a060bc0a56d64a24792020bba05bf37d19f47512b, Value: 0.0 ETH\n",
      "Transaction Hash: 0x97d5ddb7def4d3de7d1f57d18f2838e7a10d54569a4cb2840f64124a79156799, Value: 0.0 ETH\n",
      "Transaction Hash: 0x762185ebc3ece93dc685f01a0db7c892885d3bf9fb940920587afa7009e08c3d, Value: 0.0 ETH\n"
     ]
    }
   ],
   "source": [
    "transactions = get_normal_transactions(address=ADDRESS, startblock=0, endblock=99999999, page=1, offset=10, sort=\"asc\")\n",
    "for tx in transactions:\n",
    "\tprint(f\"Transaction Hash: {tx['hash']}, Value: {int(tx['value']) / 10**18} ETH\")\n"
   ]
  },
  {
   "cell_type": "code",
   "execution_count": null,
   "metadata": {},
   "outputs": [
    {
     "name": "stdout",
     "output_type": "stream",
     "text": [
      "Transaction Hash: 0x8a1a9989bda84f80143181a68bc137ecefa64d0d4ebde45dd94fc0cf49e70cb6, From: 0x20d42f2e99a421147acf198d775395cac2e8b03d, To: , Value: 0.0 ETH\n",
      "Transaction Hash: 0x1a50f1dc0bc912745f7d09b988669f71d199719e2fb7592c2074ede9578032d0, From: 0x2c1ba59d6f58433fb1eaee7d20b26ed83bda51a3, To: 0x20d42f2e99a421147acf198d775395cac2e8b03d, Value: 0.1 ETH\n",
      "Transaction Hash: 0xee535e4016e766d9210d0bc47afeff48f12cd05f0b0b00aa0ed7019b4417f505, From: 0x2c1ba59d6f58433fb1eaee7d20b26ed83bda51a3, To: 0x20d42f2e99a421147acf198d775395cac2e8b03d, Value: 1.0 ETH\n",
      "Transaction Hash: 0x020a2660579f12783e51bfde4c831006a963cea2e848648db083a03efb20bde6, From: 0x2c1ba59d6f58433fb1eaee7d20b26ed83bda51a3, To: 0x20d42f2e99a421147acf198d775395cac2e8b03d, Value: 0.07 ETH\n",
      "Transaction Hash: 0x2b13f565b5e29b792f2aaf8114da6ed904b0989fa86588a8f5c3cb39c0c594da, From: 0x2c1ba59d6f58433fb1eaee7d20b26ed83bda51a3, To: 0x20d42f2e99a421147acf198d775395cac2e8b03d, Value: 10.0 ETH\n",
      "Transaction Hash: 0x32ae2f75d0b0f14c7b208f915e13331f69e0331d3310c409c7fabe918fbac2e1, From: 0x2c1ba59d6f58433fb1eaee7d20b26ed83bda51a3, To: 0x20d42f2e99a421147acf198d775395cac2e8b03d, Value: 1.0 ETH\n",
      "Transaction Hash: 0x7ec728d9c71af608c89820a6ad8e34b572bc002a07242f0cd4e5fc826b176abc, From: 0x2c1ba59d6f58433fb1eaee7d20b26ed83bda51a3, To: 0x20d42f2e99a421147acf198d775395cac2e8b03d, Value: 26.0 ETH\n",
      "Transaction Hash: 0x9c1e2e1c4e70c200c713838abcbd01047e293dc14bb3ad8e10c4a9b99f1a8e98, From: 0x2c1ba59d6f58433fb1eaee7d20b26ed83bda51a3, To: 0x20d42f2e99a421147acf198d775395cac2e8b03d, Value: 13.0 ETH\n",
      "Transaction Hash: 0x31357abc9f0240385314f1778322e37df02761280d0bf4392e898b2605ab9841, From: 0x2c1ba59d6f58433fb1eaee7d20b26ed83bda51a3, To: 0x20d42f2e99a421147acf198d775395cac2e8b03d, Value: 26.0 ETH\n",
      "Transaction Hash: 0x2896441f9d1f167b4a3f987d82233e7d238e6a50a227c4b612dbc82f34bb533d, From: 0x2c1ba59d6f58433fb1eaee7d20b26ed83bda51a3, To: 0x20d42f2e99a421147acf198d775395cac2e8b03d, Value: 71.0 ETH\n"
     ]
    }
   ],
   "source": [
    "internal_transactions = get_internal_transactions(\n",
    "        address=\"0x2c1ba59d6f58433fb1eaee7d20b26ed83bda51a3\", # 用ADDRESS没数据，这个可以\n",
    "        startblock=0,\n",
    "        endblock=2702578,\n",
    "        page=1,\n",
    "        offset=10,\n",
    "        sort=\"asc\"\n",
    "    )\n",
    "for tx in internal_transactions:\n",
    "    print(f\"Transaction Hash: {tx['hash']}, From: {tx['from']}, To: {tx['to']}, Value: {int(tx['value']) / 10**18} ETH\")\n"
   ]
  },
  {
   "cell_type": "code",
   "execution_count": 4,
   "metadata": {},
   "outputs": [
    {
     "name": "stdout",
     "output_type": "stream",
     "text": [
      "Transaction Hash: 0xe8c208398bd5ae8e4c237658580db56a2a94dfa0ca382c99b776fa6e7d31d5b4, From: 0x642ae78fafbb8032da552d619ad43f1d81e4dd7c, To: 0x4e83362442b8d1bec281594cea3050c8eb01311c, Value: 5901.522149285533 Tokens\n",
      "Transaction Hash: 0x9c82e89b7f6a4405d11c361adb6d808d27bcd9db3b04b3fb3bc05d182bbc5d6f, From: 0x4e83362442b8d1bec281594cea3050c8eb01311c, To: 0x69076e44a9c70a67d5b79d95795aba299083c275, Value: 0.00013252048814108 Tokens\n",
      "Transaction Hash: 0xb042fda6860e8fbf85d231fc2592c0a05102fef0b3abb598a48815bb7bda5d8c, From: 0x4e83362442b8d1bec281594cea3050c8eb01311c, To: 0x69076e44a9c70a67d5b79d95795aba299083c275, Value: 0.014319250673330303 Tokens\n",
      "Transaction Hash: 0x25336233856ab4f064ea1282088dccd040c2d8e60469ab82527f0ecc53ea3b0f, From: 0x4e83362442b8d1bec281594cea3050c8eb01311c, To: 0xdea6865acca43786df85ea15fb73593c609d0de3, Value: 0.6 Tokens\n",
      "Transaction Hash: 0x000ce0ef17ceec7c10f67d0bb9cd3993083e2e17207ecc95ad1a08cb64b90f7e, From: 0x4e83362442b8d1bec281594cea3050c8eb01311c, To: 0xef42cf85be6adf3081ada73af87e27996046fe63, Value: 0.8194 Tokens\n",
      "Transaction Hash: 0x0b70357b47b358f23db844c858d80eb5e383c362599cf858521025b58cd069fa, From: 0x14fbca95be7e99c15cc2996c6c9d841e54b79425, To: 0x4e83362442b8d1bec281594cea3050c8eb01311c, Value: 466.79104766060357 Tokens\n",
      "Transaction Hash: 0x86d1f4c8727d4161f8e1776e3e88748f42fb42108401686249d784e5c7064909, From: 0x14fbca95be7e99c15cc2996c6c9d841e54b79425, To: 0x4e83362442b8d1bec281594cea3050c8eb01311c, Value: 269.7868673913043 Tokens\n",
      "Transaction Hash: 0x293d29cff56d69e60daaf7e161ba194011622b32a01a7a26241e0594197a0618, From: 0x4e83362442b8d1bec281594cea3050c8eb01311c, To: 0x69076e44a9c70a67d5b79d95795aba299083c275, Value: 0.01779182584442818 Tokens\n",
      "Transaction Hash: 0xa461bef3f2c2a3a70f24a2e84cb2ab2a13e816915c9d0c1ca0c935f520582278, From: 0x4e83362442b8d1bec281594cea3050c8eb01311c, To: 0x69076e44a9c70a67d5b79d95795aba299083c275, Value: 0.06334129516481637 Tokens\n",
      "Transaction Hash: 0xa10e6a69036dd70a55136aad209c65798eadafd2387605070adbed33a83d09c3, From: 0x4e83362442b8d1bec281594cea3050c8eb01311c, To: 0x69076e44a9c70a67d5b79d95795aba299083c275, Value: 0.05837907877927487 Tokens\n",
      "Transaction Hash: 0x1be0f0e11add8d429f2dcbbf2c1a66cc0972a3e1d09e6a3a8ed6447335cf5622, From: 0x4e83362442b8d1bec281594cea3050c8eb01311c, To: 0x69076e44a9c70a67d5b79d95795aba299083c275, Value: 0.05930573281027486 Tokens\n",
      "Transaction Hash: 0x8f147bb1b4cb45d9703c0849bcd3d690445747fee652293602e0296834f74644, From: 0x4e83362442b8d1bec281594cea3050c8eb01311c, To: 0x69076e44a9c70a67d5b79d95795aba299083c275, Value: 0.06748215318249545 Tokens\n",
      "Transaction Hash: 0x5cf4c42bd927480d89136f9eb2abf8879a0d2642199144df22437d34da030437, From: 0x4e83362442b8d1bec281594cea3050c8eb01311c, To: 0x69076e44a9c70a67d5b79d95795aba299083c275, Value: 0.17657587944218273 Tokens\n",
      "Transaction Hash: 0x78b644ef6179eeb42eace4e421e9675ecb8cd4d96604a6a0a799b1a13e34b22b, From: 0x4e83362442b8d1bec281594cea3050c8eb01311c, To: 0x69076e44a9c70a67d5b79d95795aba299083c275, Value: 0.7781059539489733 Tokens\n",
      "Transaction Hash: 0x3d61ecac0712f972b4f69568660042de87b22b4ed12d152f7e7bc6ffd4ad9278, From: 0x4e83362442b8d1bec281594cea3050c8eb01311c, To: 0x69076e44a9c70a67d5b79d95795aba299083c275, Value: 0.19575477934439653 Tokens\n",
      "Transaction Hash: 0xec1ef400b199accb171dce6fa77e0c476a5c7a46376504a4339a0bc46e0915ff, From: 0x4e83362442b8d1bec281594cea3050c8eb01311c, To: 0x69076e44a9c70a67d5b79d95795aba299083c275, Value: 0.42096685331788797 Tokens\n",
      "Transaction Hash: 0x497f15095877bc06b9e0f422673c1e0f13a2b4224b615ef29ce8c46e249364d1, From: 0x4e83362442b8d1bec281594cea3050c8eb01311c, To: 0x69076e44a9c70a67d5b79d95795aba299083c275, Value: 0.5533651267707559 Tokens\n",
      "Transaction Hash: 0xad56a518a5052bf5293ab14d8fe03fc6f7dfb09c7aaa605bc89b2c3dc62acdcd, From: 0x4e83362442b8d1bec281594cea3050c8eb01311c, To: 0x21e21ba085289f81a86921de890eed30f1ad2375, Value: 5.0 Tokens\n",
      "Transaction Hash: 0x3d63177e6f25e2e859df07c6314ef88da6fa599d42ac322c66738c2ac2133b4c, From: 0x4e83362442b8d1bec281594cea3050c8eb01311c, To: 0xba750b5be4e659d6e1055210d5be7ed528831685, Value: 29.275 Tokens\n",
      "Transaction Hash: 0xe08798d515b36dadab4a415414c3724e664296e866c04c15071dec5fdc618c5a, From: 0x4e83362442b8d1bec281594cea3050c8eb01311c, To: 0x0b733640932e11c670defd936c8a786c42db4797, Value: 30.0 Tokens\n",
      "Transaction Hash: 0xd65b788c610949704a5f9aac2228c7c777434dfe11c863a12306f57fcbd8cdbb, From: 0x4e83362442b8d1bec281594cea3050c8eb01311c, To: 0x21e21ba085289f81a86921de890eed30f1ad2375, Value: 10.0 Tokens\n",
      "Transaction Hash: 0xa976b6a975a7a8a277c51993a5e5da52e22518831cf004250d4b1428d52cba5a, From: 0x6cc5f688a315f3dc28a7781717a9a798a59fda7b, To: 0x4e83362442b8d1bec281594cea3050c8eb01311c, Value: 29.998 Tokens\n",
      "Transaction Hash: 0x5f5428bfa0bafaee01da867839c91e82287570330129063693a454ccac134dbb, From: 0x4e83362442b8d1bec281594cea3050c8eb01311c, To: 0x00052b32b097b7df13a93d9199c6300dd04bfc3a, Value: 100.0 Tokens\n",
      "Transaction Hash: 0xd2015f232109a71db89b414b37b92c9d5e4c888f41271689b806c2ce13aa9787, From: 0x59a5208b32e627891c389ebafc644145224006e8, To: 0x4e83362442b8d1bec281594cea3050c8eb01311c, Value: 5.15 Tokens\n",
      "Transaction Hash: 0x88c01c605e2a1d95dd44d46c1b64d3026d121c432431df5b525b699fc9866dbd, From: 0x4e83362442b8d1bec281594cea3050c8eb01311c, To: 0x4f2161c7eb1dc40d6f0eb24db81bf4a6eb0c3f30, Value: 3.0 Tokens\n",
      "Transaction Hash: 0xfd573bd62726b7950cae41df7a3759b764e202533f1e99ca99b5cd09beffbcbe, From: 0x876eabf441b2ee5b5b0554fd502a8e0600950cfa, To: 0x4e83362442b8d1bec281594cea3050c8eb01311c, Value: 48.98973709 Tokens\n",
      "Transaction Hash: 0x63a2ba526a9fca58bddc5c7c51ee9ec0ea5176594280a97e3ba4e942780f0de6, From: 0x4e83362442b8d1bec281594cea3050c8eb01311c, To: 0x828c1f60ec394fa5ec312ef734eeefcbfcd69913, Value: 1.0 Tokens\n",
      "Transaction Hash: 0x60cf6cd7e48a33c6125a15f3ad10db46428cb86792a192481da52c84f1f1b1d8, From: 0x828c1f60ec394fa5ec312ef734eeefcbfcd69913, To: 0x4e83362442b8d1bec281594cea3050c8eb01311c, Value: 1.01 Tokens\n",
      "Transaction Hash: 0xdede69176f70fe70831ed73f1a4d2a38ebe9a60b962dd44e261c9e94497c98ff, From: 0x745daa146934b27e3f0b6bff1a6e36b9b90fb131, To: 0x4e83362442b8d1bec281594cea3050c8eb01311c, Value: 10.0 Tokens\n",
      "Transaction Hash: 0x895aa4d8d824087ccb7c00502ed8df7d49b08f68c4b60349f475b2ddba27be82, From: 0x745daa146934b27e3f0b6bff1a6e36b9b90fb131, To: 0x4e83362442b8d1bec281594cea3050c8eb01311c, Value: 10.0 Tokens\n",
      "Transaction Hash: 0x2db2e55927cdca0261982898d95177c2af820e9f24b8936834a906fba08aed0f, From: 0x745daa146934b27e3f0b6bff1a6e36b9b90fb131, To: 0x4e83362442b8d1bec281594cea3050c8eb01311c, Value: 10.0 Tokens\n",
      "Transaction Hash: 0xae9fb978542b7358c8760a5cdc9fc72e9aa451b6e8da06748b6bbfbd4192a56b, From: 0x745daa146934b27e3f0b6bff1a6e36b9b90fb131, To: 0x4e83362442b8d1bec281594cea3050c8eb01311c, Value: 30.0 Tokens\n",
      "Transaction Hash: 0xd432317a925ebeefbb6b98d2367fd189b4059a02cc226ee3c92a23026f3feac4, From: 0x745daa146934b27e3f0b6bff1a6e36b9b90fb131, To: 0x4e83362442b8d1bec281594cea3050c8eb01311c, Value: 30.0 Tokens\n",
      "Transaction Hash: 0xfefc50539d6ea315750b91be86be0f6874debe436655d38b754de0673f948a45, From: 0x745daa146934b27e3f0b6bff1a6e36b9b90fb131, To: 0x4e83362442b8d1bec281594cea3050c8eb01311c, Value: 100.0 Tokens\n",
      "Transaction Hash: 0x4af0838047cd46f4b41fca41067e009da9060c82543587800683d3edc74c71d4, From: 0x4e83362442b8d1bec281594cea3050c8eb01311c, To: 0x4f2161c7eb1dc40d6f0eb24db81bf4a6eb0c3f30, Value: 4000.0 Tokens\n",
      "Transaction Hash: 0x97acdc12d21a9fd1c13b60316f0ee9d8773ef8c75a0515746391200eed4919cc, From: 0x4e83362442b8d1bec281594cea3050c8eb01311c, To: 0x4f2161c7eb1dc40d6f0eb24db81bf4a6eb0c3f30, Value: 2000.0 Tokens\n",
      "Transaction Hash: 0x5399bf4f4dc30facbbdc1647a06d158c515bbb43cd292d6dce816a50e41d43f6, From: 0x4e83362442b8d1bec281594cea3050c8eb01311c, To: 0x4ec62b481b70f6d4a06ad84b344cb0fab77e5cd3, Value: 7.931985597727348 Tokens\n",
      "Transaction Hash: 0x5399bf4f4dc30facbbdc1647a06d158c515bbb43cd292d6dce816a50e41d43f6, From: 0x4e83362442b8d1bec281594cea3050c8eb01311c, To: 0xc4269cc7acdedc3794b221aa4d9205f564e27f0d, Value: 0.31727942390909414 Tokens\n",
      "Transaction Hash: 0xe4817a26b7490b7043d097955e4768c6d43600700977d32708bee4655080b9fc, From: 0x4e83362442b8d1bec281594cea3050c8eb01311c, To: 0x2a84e2bd2e961b1557d6e516ca647268b432cba4, Value: 182.86813902392774 Tokens\n",
      "Transaction Hash: 0x894bfb33aa5c1243b35ab2f01806219fcae5258c936449e04d017857780dbfea, From: 0x4e83362442b8d1bec281594cea3050c8eb01311c, To: 0x40ec5b33f54e0e8a33a975908c5ba1c14e5bbbdf, Value: 0.1 Tokens\n",
      "Transaction Hash: 0x82b7e505e9eea93836650eb944d66baadc53924cb1d5c8fcc62fe0d1d8a0d486, From: 0x4e83362442b8d1bec281594cea3050c8eb01311c, To: 0x40ec5b33f54e0e8a33a975908c5ba1c14e5bbbdf, Value: 55.0 Tokens\n",
      "Transaction Hash: 0xf821d998ee1b27838d03fd990330fa4f73d5bf9e32c88cfba931c08f0109ae53, From: 0x4e83362442b8d1bec281594cea3050c8eb01311c, To: 0xa3a7b6f88361f48403514059f1f16c8e78d60eec, Value: 1.0 Tokens\n",
      "Transaction Hash: 0x0dfd5fab3dcdf91d1de67b615cee646bfdab5de1095fd34c684a609e4d10d692, From: 0x4e83362442b8d1bec281594cea3050c8eb01311c, To: 0x2a84e2bd2e961b1557d6e516ca647268b432cba4, Value: 10.0 Tokens\n",
      "Transaction Hash: 0x6fc29438a1258ae21a1ea5e30f088a4e828d687cc1682b9a0650c52d2b313565, From: 0x4e83362442b8d1bec281594cea3050c8eb01311c, To: 0x2a84e2bd2e961b1557d6e516ca647268b432cba4, Value: 13.0 Tokens\n",
      "Transaction Hash: 0x6fc29438a1258ae21a1ea5e30f088a4e828d687cc1682b9a0650c52d2b313565, From: 0x4e83362442b8d1bec281594cea3050c8eb01311c, To: 0xe8c6c9227491c0a8156a0106a0204d881bb7e531, Value: 7.0 Tokens\n",
      "Transaction Hash: 0x72ddeb1c03a2da3806a0cb2cceb4141fabef00ef19c32e27f8a9072414d6d370, From: 0x4e83362442b8d1bec281594cea3050c8eb01311c, To: 0x2a84e2bd2e961b1557d6e516ca647268b432cba4, Value: 20.0 Tokens\n",
      "Transaction Hash: 0x7575cf1b957b389597025fb523097aa3d9d637282460c08bdccc65872a8fe367, From: 0x4e83362442b8d1bec281594cea3050c8eb01311c, To: 0x2a84e2bd2e961b1557d6e516ca647268b432cba4, Value: 13.0 Tokens\n",
      "Transaction Hash: 0x7575cf1b957b389597025fb523097aa3d9d637282460c08bdccc65872a8fe367, From: 0x4e83362442b8d1bec281594cea3050c8eb01311c, To: 0xe8c6c9227491c0a8156a0106a0204d881bb7e531, Value: 7.0 Tokens\n",
      "Transaction Hash: 0xc8dea538e8b358883c73f47900aecd693267013f9a2ed8519623100429394f58, From: 0x4e83362442b8d1bec281594cea3050c8eb01311c, To: 0x2a84e2bd2e961b1557d6e516ca647268b432cba4, Value: 14.0 Tokens\n",
      "Transaction Hash: 0xc8dea538e8b358883c73f47900aecd693267013f9a2ed8519623100429394f58, From: 0x4e83362442b8d1bec281594cea3050c8eb01311c, To: 0xe8c6c9227491c0a8156a0106a0204d881bb7e531, Value: 6.0 Tokens\n",
      "Transaction Hash: 0xf19efb95ec9894fc30d5a801373a5a011c54de53815a51e129a8b020b37bac41, From: 0x4e83362442b8d1bec281594cea3050c8eb01311c, To: 0x2a84e2bd2e961b1557d6e516ca647268b432cba4, Value: 13.0 Tokens\n",
      "Transaction Hash: 0xf19efb95ec9894fc30d5a801373a5a011c54de53815a51e129a8b020b37bac41, From: 0x4e83362442b8d1bec281594cea3050c8eb01311c, To: 0xe8c6c9227491c0a8156a0106a0204d881bb7e531, Value: 7.0 Tokens\n",
      "Transaction Hash: 0x993452ae3e122c214a4ae3a02350bddd6c29124b1cd94c55d1b7a19a94832028, From: 0x4e83362442b8d1bec281594cea3050c8eb01311c, To: 0x2a84e2bd2e961b1557d6e516ca647268b432cba4, Value: 16.0 Tokens\n",
      "Transaction Hash: 0x993452ae3e122c214a4ae3a02350bddd6c29124b1cd94c55d1b7a19a94832028, From: 0x4e83362442b8d1bec281594cea3050c8eb01311c, To: 0xe8c6c9227491c0a8156a0106a0204d881bb7e531, Value: 4.0 Tokens\n",
      "Transaction Hash: 0xade5ce2ef9607b1e90ab8a1c7031b134ff9a49d360aaa3a40b3b66b016de38a4, From: 0x4e83362442b8d1bec281594cea3050c8eb01311c, To: 0x2a84e2bd2e961b1557d6e516ca647268b432cba4, Value: 12.0 Tokens\n",
      "Transaction Hash: 0xade5ce2ef9607b1e90ab8a1c7031b134ff9a49d360aaa3a40b3b66b016de38a4, From: 0x4e83362442b8d1bec281594cea3050c8eb01311c, To: 0xe8c6c9227491c0a8156a0106a0204d881bb7e531, Value: 8.0 Tokens\n",
      "Transaction Hash: 0xafeba241a09948083fffea8b2cdaff0b7e281336aacd924d53e9ccb56dfc0c4a, From: 0x4e83362442b8d1bec281594cea3050c8eb01311c, To: 0xba13afecda9beb75de5c56bbaf696b880a5a50dd, Value: 20.0 Tokens\n",
      "Transaction Hash: 0x7977125c393b33974c5a61c21fb88bcc9f19ffd78f1218582dae7928b318efec, From: 0x4e83362442b8d1bec281594cea3050c8eb01311c, To: 0x2a84e2bd2e961b1557d6e516ca647268b432cba4, Value: 13.0 Tokens\n",
      "Transaction Hash: 0x7977125c393b33974c5a61c21fb88bcc9f19ffd78f1218582dae7928b318efec, From: 0x4e83362442b8d1bec281594cea3050c8eb01311c, To: 0xe8c6c9227491c0a8156a0106a0204d881bb7e531, Value: 7.0 Tokens\n",
      "Transaction Hash: 0x0e3012b0e9261b32f20cbcea4d93761378183e58be9234281f84297e68a9348f, From: 0x4e83362442b8d1bec281594cea3050c8eb01311c, To: 0xc2adda861f89bbb333c90c492cb837741916a225, Value: 20.0 Tokens\n",
      "Transaction Hash: 0xa7f152f8465ea0d040de72a1bfc09320c45d84b40f14d098be2c65226f2d337e, From: 0x4e83362442b8d1bec281594cea3050c8eb01311c, To: 0xba13afecda9beb75de5c56bbaf696b880a5a50dd, Value: 20.0 Tokens\n",
      "Transaction Hash: 0x16caf62844f2be6e8d44b10d79d73a148695d3e1b90e5a1c5e937aa3d71a6d38, From: 0x4e83362442b8d1bec281594cea3050c8eb01311c, To: 0x2a84e2bd2e961b1557d6e516ca647268b432cba4, Value: 14.0 Tokens\n",
      "Transaction Hash: 0x16caf62844f2be6e8d44b10d79d73a148695d3e1b90e5a1c5e937aa3d71a6d38, From: 0x4e83362442b8d1bec281594cea3050c8eb01311c, To: 0xe8c6c9227491c0a8156a0106a0204d881bb7e531, Value: 6.0 Tokens\n",
      "Transaction Hash: 0xbc6b51119328206ce408a40c37454dbf2cca8a1dfcbd65d00aa7faaf2ac78b13, From: 0x4e83362442b8d1bec281594cea3050c8eb01311c, To: 0x2a84e2bd2e961b1557d6e516ca647268b432cba4, Value: 12.0 Tokens\n",
      "Transaction Hash: 0xbc6b51119328206ce408a40c37454dbf2cca8a1dfcbd65d00aa7faaf2ac78b13, From: 0x4e83362442b8d1bec281594cea3050c8eb01311c, To: 0xe8c6c9227491c0a8156a0106a0204d881bb7e531, Value: 8.0 Tokens\n",
      "Transaction Hash: 0x6c80eb09450c51ad2fc34783e13c91d0e4a5f9f87de04550fd21a062d512e306, From: 0x4e83362442b8d1bec281594cea3050c8eb01311c, To: 0xba13afecda9beb75de5c56bbaf696b880a5a50dd, Value: 20.0 Tokens\n",
      "Transaction Hash: 0x4ac2b8025e830db9746ff557b7ac402fe9141b56da9d217e0dbfa835bd052054, From: 0x4e83362442b8d1bec281594cea3050c8eb01311c, To: 0xba13afecda9beb75de5c56bbaf696b880a5a50dd, Value: 40.0 Tokens\n",
      "Transaction Hash: 0xcb57970e490fa8dce845e2c29861a5eca0bc372e067b14fc91eaf4411685d750, From: 0x4e83362442b8d1bec281594cea3050c8eb01311c, To: 0x2a84e2bd2e961b1557d6e516ca647268b432cba4, Value: 14.0 Tokens\n",
      "Transaction Hash: 0xcb57970e490fa8dce845e2c29861a5eca0bc372e067b14fc91eaf4411685d750, From: 0x4e83362442b8d1bec281594cea3050c8eb01311c, To: 0xe8c6c9227491c0a8156a0106a0204d881bb7e531, Value: 6.0 Tokens\n",
      "Transaction Hash: 0x6f8c59f9356acf2712c04552bfa5fa8966db9ee53d0554be0e9cfcbd31a25fd9, From: 0x4e83362442b8d1bec281594cea3050c8eb01311c, To: 0xba13afecda9beb75de5c56bbaf696b880a5a50dd, Value: 33.930476932109805 Tokens\n",
      "Transaction Hash: 0xff97cf1a6bbe08440708108935b0351a85b602cc2fc50119be2354153a60fe88, From: 0x4e83362442b8d1bec281594cea3050c8eb01311c, To: 0x2a84e2bd2e961b1557d6e516ca647268b432cba4, Value: 20.0 Tokens\n",
      "Transaction Hash: 0xc72e057e3bdde34e7894065adb7876d8e82c00deed549ef8466eafb9cf98ba01, From: 0x4e83362442b8d1bec281594cea3050c8eb01311c, To: 0x2a84e2bd2e961b1557d6e516ca647268b432cba4, Value: 16.0 Tokens\n",
      "Transaction Hash: 0xc72e057e3bdde34e7894065adb7876d8e82c00deed549ef8466eafb9cf98ba01, From: 0x4e83362442b8d1bec281594cea3050c8eb01311c, To: 0xe8c6c9227491c0a8156a0106a0204d881bb7e531, Value: 4.0 Tokens\n",
      "Transaction Hash: 0xff0476a2b93007c622963dc86cb52e217451266bcbcc8995736f0b49899d95c1, From: 0x4e83362442b8d1bec281594cea3050c8eb01311c, To: 0x2a84e2bd2e961b1557d6e516ca647268b432cba4, Value: 11.0 Tokens\n",
      "Transaction Hash: 0xff0476a2b93007c622963dc86cb52e217451266bcbcc8995736f0b49899d95c1, From: 0x4e83362442b8d1bec281594cea3050c8eb01311c, To: 0xe8c6c9227491c0a8156a0106a0204d881bb7e531, Value: 9.0 Tokens\n",
      "Transaction Hash: 0x5ec8d45fa78d564123089223065fa340a0dc5c488507f3e3eb0f91d1bde15d5d, From: 0x4e83362442b8d1bec281594cea3050c8eb01311c, To: 0xba13afecda9beb75de5c56bbaf696b880a5a50dd, Value: 20.0 Tokens\n",
      "Transaction Hash: 0x18d492fa725fa38d4c0c7ee21c0388f1d86635d55cd9ba1642a14f1f801317f9, From: 0x4e83362442b8d1bec281594cea3050c8eb01311c, To: 0xba13afecda9beb75de5c56bbaf696b880a5a50dd, Value: 20.0 Tokens\n",
      "Transaction Hash: 0x2102e37ff4760a10ae3ac2494c1262e109edf27148ab6b73dc67f957c5f71818, From: 0x4f2161c7eb1dc40d6f0eb24db81bf4a6eb0c3f30, To: 0x4e83362442b8d1bec281594cea3050c8eb01311c, Value: 8002.402453169758 Tokens\n",
      "Transaction Hash: 0x2506600d730d7448c6411e5d8d4840f3f4871a868956812fefb3a1ab95f6c02b, From: 0x4e83362442b8d1bec281594cea3050c8eb01311c, To: 0x2a84e2bd2e961b1557d6e516ca647268b432cba4, Value: 16.0 Tokens\n",
      "Transaction Hash: 0x2506600d730d7448c6411e5d8d4840f3f4871a868956812fefb3a1ab95f6c02b, From: 0x4e83362442b8d1bec281594cea3050c8eb01311c, To: 0xe8c6c9227491c0a8156a0106a0204d881bb7e531, Value: 4.0 Tokens\n",
      "Transaction Hash: 0xb98c2f8c04095ad6d42f1b3c000d3d19e8322808647d5912595375dc6f6ed72c, From: 0x4e83362442b8d1bec281594cea3050c8eb01311c, To: 0x2a84e2bd2e961b1557d6e516ca647268b432cba4, Value: 12.0 Tokens\n",
      "Transaction Hash: 0xb98c2f8c04095ad6d42f1b3c000d3d19e8322808647d5912595375dc6f6ed72c, From: 0x4e83362442b8d1bec281594cea3050c8eb01311c, To: 0xe8c6c9227491c0a8156a0106a0204d881bb7e531, Value: 8.0 Tokens\n",
      "Transaction Hash: 0x864ea8e348f0b5b2addcfcf2183c7749e3a1d77f0957c3a1bcfd2426f613047a, From: 0x4e83362442b8d1bec281594cea3050c8eb01311c, To: 0xba13afecda9beb75de5c56bbaf696b880a5a50dd, Value: 40.0 Tokens\n",
      "Transaction Hash: 0x5ad9564b3fdfa354cdecc2c50e91daa90c2911acc7a3b7ea35a18d6e43141dbc, From: 0x4e83362442b8d1bec281594cea3050c8eb01311c, To: 0x2a84e2bd2e961b1557d6e516ca647268b432cba4, Value: 7.0 Tokens\n",
      "Transaction Hash: 0x5ad9564b3fdfa354cdecc2c50e91daa90c2911acc7a3b7ea35a18d6e43141dbc, From: 0x4e83362442b8d1bec281594cea3050c8eb01311c, To: 0xe8c6c9227491c0a8156a0106a0204d881bb7e531, Value: 3.0 Tokens\n",
      "Transaction Hash: 0x6130d51acc683483e42eefe57c2dc90f99ff1796465a2c1adeb5b08de90bd0df, From: 0x4e83362442b8d1bec281594cea3050c8eb01311c, To: 0xba13afecda9beb75de5c56bbaf696b880a5a50dd, Value: 40.0 Tokens\n",
      "Transaction Hash: 0x045de94726437f4bf9b5bc92c88d5cafaafca613349eb860f609742e9eb748b5, From: 0x4e83362442b8d1bec281594cea3050c8eb01311c, To: 0x2a84e2bd2e961b1557d6e516ca647268b432cba4, Value: 14.0 Tokens\n",
      "Transaction Hash: 0x045de94726437f4bf9b5bc92c88d5cafaafca613349eb860f609742e9eb748b5, From: 0x4e83362442b8d1bec281594cea3050c8eb01311c, To: 0xe8c6c9227491c0a8156a0106a0204d881bb7e531, Value: 6.0 Tokens\n",
      "Transaction Hash: 0x9189232ad577a2ab5645337d0932a822ffb7a2453a226bbcd1870b4b311f6122, From: 0x4e83362442b8d1bec281594cea3050c8eb01311c, To: 0xba13afecda9beb75de5c56bbaf696b880a5a50dd, Value: 40.0 Tokens\n",
      "Transaction Hash: 0x88231b78b9fe3bfe773ae78c3d029518ce89e901328faa8429471888a691fd56, From: 0x4e83362442b8d1bec281594cea3050c8eb01311c, To: 0x2a84e2bd2e961b1557d6e516ca647268b432cba4, Value: 13.0 Tokens\n",
      "Transaction Hash: 0x88231b78b9fe3bfe773ae78c3d029518ce89e901328faa8429471888a691fd56, From: 0x4e83362442b8d1bec281594cea3050c8eb01311c, To: 0xe8c6c9227491c0a8156a0106a0204d881bb7e531, Value: 7.0 Tokens\n",
      "Transaction Hash: 0xda268e18a75d32509035067cc30d1c716c6fa81d1cd70d6e8c39807e86b27302, From: 0x4e83362442b8d1bec281594cea3050c8eb01311c, To: 0x2a84e2bd2e961b1557d6e516ca647268b432cba4, Value: 13.0 Tokens\n",
      "Transaction Hash: 0xda268e18a75d32509035067cc30d1c716c6fa81d1cd70d6e8c39807e86b27302, From: 0x4e83362442b8d1bec281594cea3050c8eb01311c, To: 0xe8c6c9227491c0a8156a0106a0204d881bb7e531, Value: 7.0 Tokens\n",
      "Transaction Hash: 0x72537ed30e36dadf550a8ce1b6a21acdc648ad3a8b89e127710ea8da6b493978, From: 0x4e83362442b8d1bec281594cea3050c8eb01311c, To: 0xba13afecda9beb75de5c56bbaf696b880a5a50dd, Value: 40.0 Tokens\n",
      "Transaction Hash: 0x507419e6f5e10594b95aad839f10af32c41ccf3d149306fb63e3c1df7f3a3531, From: 0x4e83362442b8d1bec281594cea3050c8eb01311c, To: 0xba13afecda9beb75de5c56bbaf696b880a5a50dd, Value: 40.0 Tokens\n",
      "Transaction Hash: 0xf41efae4c86ed671eabf982e139b379ce6c634219a38cff939a95fba7926470b, From: 0x4e83362442b8d1bec281594cea3050c8eb01311c, To: 0x2a84e2bd2e961b1557d6e516ca647268b432cba4, Value: 14.0 Tokens\n",
      "Transaction Hash: 0xf41efae4c86ed671eabf982e139b379ce6c634219a38cff939a95fba7926470b, From: 0x4e83362442b8d1bec281594cea3050c8eb01311c, To: 0xe8c6c9227491c0a8156a0106a0204d881bb7e531, Value: 6.0 Tokens\n",
      "Transaction Hash: 0xe56d007ecb3c37f700ad84bd6513eddf382bd984c06d04d536b8a81e748a0e6e, From: 0x4e83362442b8d1bec281594cea3050c8eb01311c, To: 0x2a84e2bd2e961b1557d6e516ca647268b432cba4, Value: 15.0 Tokens\n",
      "Transaction Hash: 0xe56d007ecb3c37f700ad84bd6513eddf382bd984c06d04d536b8a81e748a0e6e, From: 0x4e83362442b8d1bec281594cea3050c8eb01311c, To: 0xe8c6c9227491c0a8156a0106a0204d881bb7e531, Value: 5.0 Tokens\n",
      "Transaction Hash: 0x6a0ba9d846036501f15bcac32c421b3d1e6bae55dcd1cfe6a9f30906ec86c9d6, From: 0x4e83362442b8d1bec281594cea3050c8eb01311c, To: 0x2a84e2bd2e961b1557d6e516ca647268b432cba4, Value: 13.0 Tokens\n"
     ]
    }
   ],
   "source": [
    "address = \"0x4e83362442b8d1bec281594cea3050c8eb01311c\"\n",
    "contract_address = \"0x9f8f72aa9304c8b593d555f12ef6589cc3a579a2\"\n",
    "erc20_transfers = get_erc20_transfers(\n",
    "        address=address,\n",
    "        contract_address=contract_address,\n",
    "        startblock=0,\n",
    "        endblock=27025780,\n",
    "        page=1,\n",
    "        offset=100,\n",
    "        sort=\"asc\"\n",
    "    )\n",
    "for tx in erc20_transfers:\n",
    "    print(f\"Transaction Hash: {tx['hash']}, From: {tx['from']}, To: {tx['to']}, Value: {int(tx['value']) / 10**18} Tokens\")\n"
   ]
  },
  {
   "cell_type": "code",
   "execution_count": null,
   "metadata": {},
   "outputs": [
    {
     "name": "stdout",
     "output_type": "stream",
     "text": [
      "Contract ABI: [{\"inputs\":[{\"internalType\":\"address\",\"name\":\"_singleton\",\"type\":\"address\"}],\"stateMutability\":\"nonpayable\",\"type\":\"constructor\"},{\"stateMutability\":\"payable\",\"type\":\"fallback\"}]\n"
     ]
    }
   ],
   "source": [
    "contract_address = \"0xBB9bc244D798123fDe783fCc1C72d3Bb8C189413\"\n",
    "abi = get_contract_abi(contract_address=ADDRESS) # whats the difference between contract_address and address?\n",
    "print(\"Contract ABI:\", abi)"
   ]
  },
  {
   "cell_type": "code",
   "execution_count": null,
   "metadata": {},
   "outputs": [],
   "source": []
  }
 ],
 "metadata": {
  "kernelspec": {
   "display_name": "base",
   "language": "python",
   "name": "python3"
  },
  "language_info": {
   "codemirror_mode": {
    "name": "ipython",
    "version": 3
   },
   "file_extension": ".py",
   "mimetype": "text/x-python",
   "name": "python",
   "nbconvert_exporter": "python",
   "pygments_lexer": "ipython3",
   "version": "3.12.7"
  }
 },
 "nbformat": 4,
 "nbformat_minor": 2
}
