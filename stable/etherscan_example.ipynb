{
 "cells": [
  {
   "cell_type": "code",
   "execution_count": 1,
   "metadata": {},
   "outputs": [],
   "source": [
    "import requests\n",
    "import json\n",
    "from datetime import datetime\n",
    "from etherscan_functions import get_ether_balance, get_multi_address_balance, get_normal_transactions"
   ]
  },
  {
   "cell_type": "code",
   "execution_count": 2,
   "metadata": {},
   "outputs": [],
   "source": [
    "api_key = \"VQAIR728IM4Z8RZKPYBR4ESM5I3WBZK2C1\" # free API key, you can get one at https://etherscan.io/myapikey\n",
    "base_url = \"https://api.etherscan.io/v2/api\" # We're using the v2 API 2024/12/12\n",
    "ADDRESS = \"0x5be9a4959308A0D0c7bC0870E319314d8D957dBB\" # Address of the contract we want to get the source code of\n",
    "chain_id = 1  # Ethereum Mainnet"
   ]
  },
  {
   "cell_type": "code",
   "execution_count": 3,
   "metadata": {},
   "outputs": [
    {
     "name": "stdout",
     "output_type": "stream",
     "text": [
      "Address: 0x5be9a4959308A0D0c7bC0870E319314d8D957dBB Balance: 14579.665307 ETH\n"
     ]
    }
   ],
   "source": [
    "balance = get_ether_balance(ADDRESS)\n",
    "print(f\"Address: {ADDRESS} Balance: {balance:.6f} ETH\")"
   ]
  },
  {
   "cell_type": "code",
   "execution_count": 5,
   "metadata": {},
   "outputs": [
    {
     "name": "stdout",
     "output_type": "stream",
     "text": [
      "Address: 0xddbd2b932c763ba5b1b7ae3b362eac3e8d40121a, Balance: 40891.626855 ETH\n",
      "Address: 0x63a9975ba31b0b9626b34300f7f627147df1f526, Balance: 332.567468 ETH\n",
      "Address: 0x198ef1ec325a96cc354c7266a038be8b5c558f67, Balance: 0.021000 ETH\n"
     ]
    }
   ],
   "source": [
    "addresses = [\n",
    "        \"0xddbd2b932c763ba5b1b7ae3b362eac3e8d40121a\",\n",
    "        \"0x63a9975ba31b0b9626b34300f7f627147df1f526\",\n",
    "        \"0x198ef1ec325a96cc354c7266a038be8b5c558f67\"\n",
    "    ]\n",
    "balances = get_multi_address_balance(addresses)\n",
    "for address, balance in balances.items():\n",
    "    print(f\"Address: {address}, Balance: {balance:.6f} ETH\")"
   ]
  },
  {
   "cell_type": "code",
   "execution_count": 6,
   "metadata": {},
   "outputs": [
    {
     "name": "stdout",
     "output_type": "stream",
     "text": [
      "Transaction Hash: 0xaf9b7a01530d4fd1a7e1c4ae9e32eb7c94c6a652e5e5d8d3124ca5f67335b0ee, Value: 0.0 ETH\n",
      "Transaction Hash: 0x7c46215664c39213e791baffbc505b814d47d36de5a41edbd5ff2ac697e9232b, Value: 0.0 ETH\n",
      "Transaction Hash: 0x560d80e1406ec51f91e9cf2414b93321094afb6bc3f503760c397e23c9568166, Value: 0.0 ETH\n",
      "Transaction Hash: 0x1fa560f8d2b1d7b487758fad869fd81961f6cc16276dade534a550d30868f120, Value: 0.0 ETH\n",
      "Transaction Hash: 0x4d94290a17168decabd8ade7715a315ab5d8f5cdfb95ba9c745fc1760569b3de, Value: 0.0 ETH\n",
      "Transaction Hash: 0xcad66d50696b3ffeb47032b75dc8d60c0f4c7c9cea81e04c392f12ae347a4ae7, Value: 0.0 ETH\n",
      "Transaction Hash: 0xb1733a463992810ed380a1af5571a6167c0af5f88256ae2bfc83726ccf63d589, Value: 0.0 ETH\n",
      "Transaction Hash: 0x441cf2d81c58ce765993612a060bc0a56d64a24792020bba05bf37d19f47512b, Value: 0.0 ETH\n",
      "Transaction Hash: 0x97d5ddb7def4d3de7d1f57d18f2838e7a10d54569a4cb2840f64124a79156799, Value: 0.0 ETH\n",
      "Transaction Hash: 0x762185ebc3ece93dc685f01a0db7c892885d3bf9fb940920587afa7009e08c3d, Value: 0.0 ETH\n"
     ]
    }
   ],
   "source": [
    "transactions = get_normal_transactions(address=ADDRESS, startblock=0, endblock=99999999, page=1, offset=10, sort=\"asc\")\n",
    "for tx in transactions:\n",
    "\tprint(f\"Transaction Hash: {tx['hash']}, Value: {int(tx['value']) / 10**18} ETH\")\n"
   ]
  },
  {
   "cell_type": "code",
   "execution_count": null,
   "metadata": {},
   "outputs": [],
   "source": []
  }
 ],
 "metadata": {
  "kernelspec": {
   "display_name": "base",
   "language": "python",
   "name": "python3"
  },
  "language_info": {
   "codemirror_mode": {
    "name": "ipython",
    "version": 3
   },
   "file_extension": ".py",
   "mimetype": "text/x-python",
   "name": "python",
   "nbconvert_exporter": "python",
   "pygments_lexer": "ipython3",
   "version": "3.12.7"
  }
 },
 "nbformat": 4,
 "nbformat_minor": 2
}
